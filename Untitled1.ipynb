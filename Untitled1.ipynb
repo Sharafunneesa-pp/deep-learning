{
 "cells": [
  {
   "cell_type": "code",
   "execution_count": null,
   "id": "f1c00524",
   "metadata": {},
   "outputs": [],
   "source": [
    "Wt-1=Wt-2-learningrate*diferent(loss)/Wt-2\n",
    "differt(loss)/wt-2=differ(loss)/differ(wt-1)* diff(wt-1)/diff(wt)"
   ]
  }
 ],
 "metadata": {
  "kernelspec": {
   "display_name": "Python 3 (ipykernel)",
   "language": "python",
   "name": "python3"
  },
  "language_info": {
   "codemirror_mode": {
    "name": "ipython",
    "version": 3
   },
   "file_extension": ".py",
   "mimetype": "text/x-python",
   "name": "python",
   "nbconvert_exporter": "python",
   "pygments_lexer": "ipython3",
   "version": "3.11.5"
  }
 },
 "nbformat": 4,
 "nbformat_minor": 5
}
